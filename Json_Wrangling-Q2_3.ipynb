{
 "cells": [
  {
   "cell_type": "code",
   "execution_count": 1,
   "metadata": {},
   "outputs": [],
   "source": [
    "import pandas as pd"
   ]
  },
  {
   "cell_type": "code",
   "execution_count": 3,
   "metadata": {},
   "outputs": [],
   "source": [
    "import json\n",
    "from pandas.io.json import json_normalize "
   ]
  },
  {
   "cell_type": "code",
   "execution_count": 4,
   "metadata": {},
   "outputs": [],
   "source": [
    "with open('data/world_bank_projects.json', 'r') as jason_file: \n",
    "    json_data = json.load(jason_file)"
   ]
  },
  {
   "cell_type": "code",
   "execution_count": 5,
   "metadata": {},
   "outputs": [
    {
     "name": "stdout",
     "output_type": "stream",
     "text": [
      "<class 'list'>\n"
     ]
    }
   ],
   "source": [
    "print(type(json_data)) #the data is a list :( "
   ]
  },
  {
   "cell_type": "code",
   "execution_count": 6,
   "metadata": {},
   "outputs": [
    {
     "name": "stdout",
     "output_type": "stream",
     "text": [
      "dict_keys(['sector', 'supplementprojectflg', 'projectfinancialtype', 'prodline', 'mjtheme', 'idacommamt', 'impagency', 'project_name', 'mjthemecode', 'closingdate', 'totalcommamt', 'id', 'mjsector_namecode', 'docty', 'sector1', 'lendinginstr', 'countrycode', 'sector2', 'totalamt', 'mjtheme_namecode', 'boardapprovaldate', 'countryshortname', 'sector4', 'prodlinetext', 'productlinetype', 'regionname', 'status', 'country_namecode', 'envassesmentcategorycode', 'project_abstract', 'approvalfy', 'projectdocs', 'lendprojectcost', 'lendinginstrtype', 'theme1', 'grantamt', 'themecode', 'borrower', 'sectorcode', 'sector3', 'majorsector_percent', 'board_approval_month', 'theme_namecode', 'countryname', 'url', 'source', 'projectstatusdisplay', 'ibrdcommamt', 'sector_namecode', '_id'])\n"
     ]
    }
   ],
   "source": [
    "print(json_data[0].keys())\n"
   ]
  },
  {
   "cell_type": "code",
   "execution_count": 14,
   "metadata": {},
   "outputs": [
    {
     "name": "stdout",
     "output_type": "stream",
     "text": [
      "     code                                          name\n",
      "0       8                             Human development\n",
      "1      11                                              \n",
      "2       1                           Economic management\n",
      "3       6         Social protection and risk management\n",
      "4       5                         Trade and integration\n",
      "5       2                      Public sector governance\n",
      "6      11  Environment and natural resources management\n",
      "7       6         Social protection and risk management\n",
      "8       7                   Social dev/gender/inclusion\n",
      "9       7                   Social dev/gender/inclusion\n",
      "10      5                         Trade and integration\n",
      "11      4      Financial and private sector development\n",
      "12      6         Social protection and risk management\n",
      "13      6                                              \n",
      "14      2                      Public sector governance\n",
      "15      4      Financial and private sector development\n",
      "16     11  Environment and natural resources management\n",
      "17      8                                              \n",
      "18     10                             Rural development\n",
      "19      7                                              \n",
      "20      2                      Public sector governance\n",
      "21      2                      Public sector governance\n",
      "22      2                      Public sector governance\n",
      "23     10                             Rural development\n",
      "24      2                                              \n",
      "25     10                             Rural development\n",
      "26      6         Social protection and risk management\n",
      "27      6         Social protection and risk management\n",
      "28     11  Environment and natural resources management\n",
      "29      4                                              \n",
      "...   ...                                           ...\n",
      "1469    8                             Human development\n",
      "1470    9                             Urban development\n",
      "1471    6         Social protection and risk management\n",
      "1472    6         Social protection and risk management\n",
      "1473    9                             Urban development\n",
      "1474    2                      Public sector governance\n",
      "1475    2                      Public sector governance\n",
      "1476   10                             Rural development\n",
      "1477   11                                              \n",
      "1478    8                             Human development\n",
      "1479    7                   Social dev/gender/inclusion\n",
      "1480   11  Environment and natural resources management\n",
      "1481    5                                              \n",
      "1482    6         Social protection and risk management\n",
      "1483    8                                              \n",
      "1484    4      Financial and private sector development\n",
      "1485    7                   Social dev/gender/inclusion\n",
      "1486    8                             Human development\n",
      "1487    5                         Trade and integration\n",
      "1488    2                      Public sector governance\n",
      "1489    8                             Human development\n",
      "1490   10                             Rural development\n",
      "1491    6                                              \n",
      "1492   10                             Rural development\n",
      "1493   10                             Rural development\n",
      "1494   10                             Rural development\n",
      "1495    9                             Urban development\n",
      "1496    8                             Human development\n",
      "1497    5                         Trade and integration\n",
      "1498    4      Financial and private sector development\n",
      "\n",
      "[1499 rows x 2 columns]\n"
     ]
    }
   ],
   "source": [
    "json_norm_mj = json_normalize(json_data, 'mjtheme_namecode')\n",
    "print(json_norm_mj)"
   ]
  },
  {
   "cell_type": "code",
   "execution_count": 27,
   "metadata": {},
   "outputs": [
    {
     "name": "stdout",
     "output_type": "stream",
     "text": [
      "10 Major Project themes:\n",
      "Environment and natural resources management    223\n",
      "Rural development                               202\n",
      "Human development                               197\n",
      "Public sector governance                        184\n",
      "Social protection and risk management           158\n",
      "Financial and private sector development        130\n",
      "                                                122\n",
      "Social dev/gender/inclusion                     119\n",
      "Trade and integration                            72\n",
      "Urban development                                47\n",
      "Name: name, dtype: int64\n"
     ]
    }
   ],
   "source": [
    "print('10 Major Project themes:')\n",
    "print(json_norm_mj['name'].value_counts().sort_values(ascending = False).head(10))"
   ]
  },
  {
   "cell_type": "code",
   "execution_count": 28,
   "metadata": {},
   "outputs": [
    {
     "name": "stdout",
     "output_type": "stream",
     "text": [
      "<class 'pandas.core.frame.DataFrame'>\n",
      "RangeIndex: 1499 entries, 0 to 1498\n",
      "Data columns (total 2 columns):\n",
      "code    1499 non-null object\n",
      "name    1499 non-null object\n",
      "dtypes: object(2)\n",
      "memory usage: 23.5+ KB\n",
      "None\n"
     ]
    }
   ],
   "source": [
    "print(json_norm_mj.info()) #let's see what we have as of now "
   ]
  },
  {
   "cell_type": "code",
   "execution_count": 30,
   "metadata": {},
   "outputs": [
    {
     "name": "stdout",
     "output_type": "stream",
     "text": [
      "<class 'pandas.core.frame.DataFrame'>\n"
     ]
    }
   ],
   "source": [
    "print(type(json_norm_mj))"
   ]
  },
  {
   "cell_type": "code",
   "execution_count": 38,
   "metadata": {},
   "outputs": [
    {
     "name": "stdout",
     "output_type": "stream",
     "text": [
      "object\n"
     ]
    }
   ],
   "source": [
    "print(json_norm_mj['code'].dtype) # We need to convert this to numeric!"
   ]
  },
  {
   "cell_type": "code",
   "execution_count": 40,
   "metadata": {},
   "outputs": [],
   "source": [
    "json_norm_mj['code'] = json_norm_mj['code'].apply(pd.to_numeric)"
   ]
  },
  {
   "cell_type": "code",
   "execution_count": 41,
   "metadata": {},
   "outputs": [
    {
     "name": "stdout",
     "output_type": "stream",
     "text": [
      "int64\n"
     ]
    }
   ],
   "source": [
    "print(json_norm_mj['code'].dtype) # Numeric!"
   ]
  },
  {
   "cell_type": "code",
   "execution_count": 43,
   "metadata": {},
   "outputs": [],
   "source": [
    "import numpy as np"
   ]
  },
  {
   "cell_type": "code",
   "execution_count": 55,
   "metadata": {},
   "outputs": [
    {
     "name": "stdout",
     "output_type": "stream",
     "text": [
      "<class 'pandas.core.frame.DataFrame'>\n",
      "RangeIndex: 1499 entries, 0 to 1498\n",
      "Data columns (total 2 columns):\n",
      "code    1499 non-null int64\n",
      "name    1377 non-null object\n",
      "dtypes: int64(1), object(1)\n",
      "memory usage: 23.5+ KB\n",
      "None\n"
     ]
    }
   ],
   "source": [
    "json_norm_mj_nan = json_norm_mj.replace('', np.nan)\n",
    "print(json_norm_mj_nan.info())\n"
   ]
  },
  {
   "cell_type": "code",
   "execution_count": 61,
   "metadata": {},
   "outputs": [
    {
     "name": "stdout",
     "output_type": "stream",
     "text": [
      "      code                                          name\n",
      "2        1                           Economic management\n",
      "88       1                           Economic management\n",
      "175      1                           Economic management\n",
      "204      1                           Economic management\n",
      "205      1                           Economic management\n",
      "220      1                           Economic management\n",
      "222      1                           Economic management\n",
      "223      1                           Economic management\n",
      "249      1                           Economic management\n",
      "357      1                           Economic management\n",
      "453      1                           Economic management\n",
      "454      1                           Economic management\n",
      "458      1                           Economic management\n",
      "497      1                           Economic management\n",
      "647      1                           Economic management\n",
      "648      1                           Economic management\n",
      "784      1                           Economic management\n",
      "803      1                           Economic management\n",
      "841      1                           Economic management\n",
      "900      1                           Economic management\n",
      "1010     1                           Economic management\n",
      "1045     1                           Economic management\n",
      "1056     1                           Economic management\n",
      "1057     1                           Economic management\n",
      "1078     1                           Economic management\n",
      "1206     1                           Economic management\n",
      "1212     1                           Economic management\n",
      "1218     1                           Economic management\n",
      "1229     1                           Economic management\n",
      "1230     1                           Economic management\n",
      "...    ...                                           ...\n",
      "1462    11  Environment and natural resources management\n",
      "1465    11  Environment and natural resources management\n",
      "1480    11  Environment and natural resources management\n",
      "1       11                                           NaN\n",
      "98      11                                           NaN\n",
      "127     11                                           NaN\n",
      "187     11                                           NaN\n",
      "210     11                                           NaN\n",
      "233     11                                           NaN\n",
      "242     11                                           NaN\n",
      "277     11                                           NaN\n",
      "389     11                                           NaN\n",
      "407     11                                           NaN\n",
      "446     11                                           NaN\n",
      "562     11                                           NaN\n",
      "682     11                                           NaN\n",
      "686     11                                           NaN\n",
      "701     11                                           NaN\n",
      "885     11                                           NaN\n",
      "998     11                                           NaN\n",
      "1002    11                                           NaN\n",
      "1015    11                                           NaN\n",
      "1022    11                                           NaN\n",
      "1053    11                                           NaN\n",
      "1331    11                                           NaN\n",
      "1360    11                                           NaN\n",
      "1414    11                                           NaN\n",
      "1422    11                                           NaN\n",
      "1439    11                                           NaN\n",
      "1477    11                                           NaN\n",
      "\n",
      "[1499 rows x 2 columns]\n"
     ]
    }
   ],
   "source": [
    "json_norm_mj_nan_sorted = json_norm_mj_nan.sort_values(['code', 'name'])\n",
    "print(json_norm_mj_nan_sorted)"
   ]
  },
  {
   "cell_type": "code",
   "execution_count": 62,
   "metadata": {},
   "outputs": [
    {
     "name": "stdout",
     "output_type": "stream",
     "text": [
      "      code                                          name\n",
      "2        1                           Economic management\n",
      "88       1                           Economic management\n",
      "175      1                           Economic management\n",
      "204      1                           Economic management\n",
      "205      1                           Economic management\n",
      "220      1                           Economic management\n",
      "222      1                           Economic management\n",
      "223      1                           Economic management\n",
      "249      1                           Economic management\n",
      "357      1                           Economic management\n",
      "453      1                           Economic management\n",
      "454      1                           Economic management\n",
      "458      1                           Economic management\n",
      "497      1                           Economic management\n",
      "647      1                           Economic management\n",
      "648      1                           Economic management\n",
      "784      1                           Economic management\n",
      "803      1                           Economic management\n",
      "841      1                           Economic management\n",
      "900      1                           Economic management\n",
      "1010     1                           Economic management\n",
      "1045     1                           Economic management\n",
      "1056     1                           Economic management\n",
      "1057     1                           Economic management\n",
      "1078     1                           Economic management\n",
      "1206     1                           Economic management\n",
      "1212     1                           Economic management\n",
      "1218     1                           Economic management\n",
      "1229     1                           Economic management\n",
      "1230     1                           Economic management\n",
      "...    ...                                           ...\n",
      "1462    11  Environment and natural resources management\n",
      "1465    11  Environment and natural resources management\n",
      "1480    11  Environment and natural resources management\n",
      "1       11  Environment and natural resources management\n",
      "98      11  Environment and natural resources management\n",
      "127     11  Environment and natural resources management\n",
      "187     11  Environment and natural resources management\n",
      "210     11  Environment and natural resources management\n",
      "233     11  Environment and natural resources management\n",
      "242     11  Environment and natural resources management\n",
      "277     11  Environment and natural resources management\n",
      "389     11  Environment and natural resources management\n",
      "407     11  Environment and natural resources management\n",
      "446     11  Environment and natural resources management\n",
      "562     11  Environment and natural resources management\n",
      "682     11  Environment and natural resources management\n",
      "686     11  Environment and natural resources management\n",
      "701     11  Environment and natural resources management\n",
      "885     11  Environment and natural resources management\n",
      "998     11  Environment and natural resources management\n",
      "1002    11  Environment and natural resources management\n",
      "1015    11  Environment and natural resources management\n",
      "1022    11  Environment and natural resources management\n",
      "1053    11  Environment and natural resources management\n",
      "1331    11  Environment and natural resources management\n",
      "1360    11  Environment and natural resources management\n",
      "1414    11  Environment and natural resources management\n",
      "1422    11  Environment and natural resources management\n",
      "1439    11  Environment and natural resources management\n",
      "1477    11  Environment and natural resources management\n",
      "\n",
      "[1499 rows x 2 columns]\n"
     ]
    }
   ],
   "source": [
    "no_missing = json_norm_mj_nan_sorted.fillna(method = 'ffill')\n",
    "print(no_missing)"
   ]
  },
  {
   "cell_type": "code",
   "execution_count": 63,
   "metadata": {},
   "outputs": [
    {
     "name": "stdout",
     "output_type": "stream",
     "text": [
      "<class 'pandas.core.frame.DataFrame'>\n",
      "2                                Economic management\n",
      "88                               Economic management\n",
      "175                              Economic management\n",
      "204                              Economic management\n",
      "205                              Economic management\n",
      "220                              Economic management\n",
      "222                              Economic management\n",
      "223                              Economic management\n",
      "249                              Economic management\n",
      "357                              Economic management\n",
      "453                              Economic management\n",
      "454                              Economic management\n",
      "458                              Economic management\n",
      "497                              Economic management\n",
      "647                              Economic management\n",
      "648                              Economic management\n",
      "784                              Economic management\n",
      "803                              Economic management\n",
      "841                              Economic management\n",
      "900                              Economic management\n",
      "1010                             Economic management\n",
      "1045                             Economic management\n",
      "1056                             Economic management\n",
      "1057                             Economic management\n",
      "1078                             Economic management\n",
      "1206                             Economic management\n",
      "1212                             Economic management\n",
      "1218                             Economic management\n",
      "1229                             Economic management\n",
      "1230                             Economic management\n",
      "                            ...                     \n",
      "1462    Environment and natural resources management\n",
      "1465    Environment and natural resources management\n",
      "1480    Environment and natural resources management\n",
      "1       Environment and natural resources management\n",
      "98      Environment and natural resources management\n",
      "127     Environment and natural resources management\n",
      "187     Environment and natural resources management\n",
      "210     Environment and natural resources management\n",
      "233     Environment and natural resources management\n",
      "242     Environment and natural resources management\n",
      "277     Environment and natural resources management\n",
      "389     Environment and natural resources management\n",
      "407     Environment and natural resources management\n",
      "446     Environment and natural resources management\n",
      "562     Environment and natural resources management\n",
      "682     Environment and natural resources management\n",
      "686     Environment and natural resources management\n",
      "701     Environment and natural resources management\n",
      "885     Environment and natural resources management\n",
      "998     Environment and natural resources management\n",
      "1002    Environment and natural resources management\n",
      "1015    Environment and natural resources management\n",
      "1022    Environment and natural resources management\n",
      "1053    Environment and natural resources management\n",
      "1331    Environment and natural resources management\n",
      "1360    Environment and natural resources management\n",
      "1414    Environment and natural resources management\n",
      "1422    Environment and natural resources management\n",
      "1439    Environment and natural resources management\n",
      "1477    Environment and natural resources management\n",
      "Name: name, Length: 1499, dtype: object\n"
     ]
    }
   ],
   "source": [
    "print(type(no_missing))\n",
    "print(no_missing['name'])"
   ]
  },
  {
   "cell_type": "code",
   "execution_count": 64,
   "metadata": {},
   "outputs": [
    {
     "name": "stdout",
     "output_type": "stream",
     "text": [
      "Environment and natural resources management    250\n",
      "Rural development                               216\n",
      "Human development                               210\n",
      "Public sector governance                        199\n",
      "Social protection and risk management           168\n",
      "Financial and private sector development        146\n",
      "Social dev/gender/inclusion                     130\n",
      "Trade and integration                            77\n",
      "Urban development                                50\n",
      "Economic management                              38\n",
      "Name: name, dtype: int64\n"
     ]
    }
   ],
   "source": [
    "print(no_missing['name'].value_counts().sort_values(ascending = False).head(10))"
   ]
  }
 ],
 "metadata": {
  "kernelspec": {
   "display_name": "Python 3",
   "language": "python",
   "name": "python3"
  },
  "language_info": {
   "codemirror_mode": {
    "name": "ipython",
    "version": 3
   },
   "file_extension": ".py",
   "mimetype": "text/x-python",
   "name": "python",
   "nbconvert_exporter": "python",
   "pygments_lexer": "ipython3",
   "version": "3.7.1"
  }
 },
 "nbformat": 4,
 "nbformat_minor": 2
}
